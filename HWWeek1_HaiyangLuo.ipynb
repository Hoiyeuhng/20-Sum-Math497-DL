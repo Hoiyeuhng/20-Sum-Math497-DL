{
 "cells": [
  {
   "cell_type": "markdown",
   "metadata": {},
   "source": [
    "# Math497DL HW1\n",
    "\n",
    "Name: Haiyang Luo\n",
    "\n",
    "Email: hml5369@psu.edu"
   ]
  },
  {
   "cell_type": "markdown",
   "metadata": {},
   "source": [
    "# Problem 1\n",
    "\n",
    "Consider w,b $\\in {\\Bbb R}$ and the function that\n",
    "\n",
    "$$f(w,b) = e^{x_1w+b}$$\n",
    "\n",
    "for $x_1 \\in {\\Bbb R}$"
   ]
  },
  {
   "cell_type": "markdown",
   "metadata": {},
   "source": [
    "1.1) consisder the Hessian matrix of $f$ defined by\n",
    "\n",
    "$$ H(w,b) = \\bigtriangledown ^2 f(w,b) = \\begin{pmatrix} {\\frac{\\partial ^2 f}{\\partial w^2}} & {\\frac{\\partial ^2 f}{\\partial w \\partial b}} \\\\ {\\frac{\\partial ^2 f}{\\partial b \\partial w}} & {\\frac{\\partial ^2 f}{\\partial b^2}} \\end{pmatrix}$$\n",
    "\n",
    "verify that \n",
    "$$H(w,b) = f(w,b) \\mathbf{x}\\mathbf{x}^T $$\n",
    "where \n",
    "$$\\mathbf{x} = \\begin{pmatrix} x_1 \\\\ 1 \\end{pmatrix}.$$"
   ]
  },
  {
   "cell_type": "markdown",
   "metadata": {},
   "source": [
    "Solution:\n",
    "\n",
    "Since $f(w,b) = e^{x_1w+b} = e^{x_1w}e^b$, hence\n",
    "\n",
    "$${\\frac{\\partial^2f}{\\partial w^2}} ={\\frac{\\partial (x_1e^{x_1 w+b}) }{\\partial w}}  = x_1 ^2 e^{x_1w+b},$$\n",
    "\n",
    "$${\\frac{\\partial ^2 f}{\\partial w \\partial b}} = \\frac {\\partial (e^{x_1w+b})}{\\partial w}= x_1 e^{x_1w+b},$$\n",
    "\n",
    "$${\\frac{\\partial ^2 f}{\\partial b \\partial w}} = \\frac {\\partial (x_1e^{x_1w+b})}{\\partial b}= x_1 e^{x_1w+b},$$\n",
    "\n",
    "$${\\frac{\\partial^2f}{\\partial b^2}} ={\\frac{\\partial (e^{x_1 w+b}) }{\\partial b}}=e^{x_1w+b}.$$\n",
    "\n",
    "Thus, \n",
    "$$ H(w,b) = \\bigtriangledown ^2 f(w,b) =  \\begin{pmatrix} {\\frac{\\partial ^2 f}{\\partial w^2}} & {\\frac{\\partial ^2 f}{\\partial w \\partial b}} \\\\ {\\frac{\\partial ^2 f}{\\partial b \\partial w}} & {\\frac{\\partial ^2 f}{\\partial b^2}} \\end{pmatrix} =\\begin{pmatrix} {x_1 ^2 e^{x_1w+b}} & {x_1 e^{x_1w+b}} \\\\ {x_1 e^{x_1w+b}} & {e^{x_1w+b}} \\end{pmatrix}.$$\n",
    "\n",
    "$$f(w,b)\\mathbf{x}\\mathbf{x}^T = e^{x_1w+b}\\begin{pmatrix} x_1 \\\\ 1 \\end{pmatrix} \\begin{pmatrix} x_1 & 1 \\end{pmatrix} = e^{x_1w+b} \\begin{pmatrix} x_1^2 & x_1 \\\\ x_1 & 1 \\end{pmatrix} = \\begin{pmatrix} {x_1 ^2 e^{x_1w+b}} & {x_1 e^{x_1w+b}} \\\\ {x_1 e^{x_1w+b}} & {e^{x_1w+b}} \\end{pmatrix}.$$\n",
    "\n",
    "Hence $$H(w,b) = f(w,b) \\mathbf{x}\\mathbf{x}^T .$$"
   ]
  },
  {
   "cell_type": "markdown",
   "metadata": {},
   "source": [
    "1.2) Prove that \n",
    "$$v^T H(w,b)v \\geq 0,$$\n",
    "for any $v = \\begin{pmatrix} v_1 \\\\ v_2 \\end{pmatrix} \\in {\\Bbb R}^2$ and $(w,b) \\in {\\Bbb R}^2$."
   ]
  },
  {
   "cell_type": "markdown",
   "metadata": {},
   "source": [
    "Solution:\n",
    "\n",
    "From solution 1.1), we get $$H(w,b) = e^{x_1w+b} \\begin{pmatrix} x_1^2 & x_1 \\\\ x_1 & 1 \\end{pmatrix}.$$\n",
    "\n",
    "Hence for any $v = \\begin{pmatrix} v_1 \\\\ v_2 \\end{pmatrix} \\in {\\Bbb R}^2$ and $(w,b) \\in {\\Bbb R}^2$,\n",
    "\n",
    "$$v^TH(w,b)v = \\begin{pmatrix} v_1 & v_2 \\end{pmatrix} e^{x_1w+b} \\begin{pmatrix} x_1^2 & x_1 \\\\ x_1 & 1 \\end{pmatrix} \\begin{pmatrix} v_1 \\\\ v_2\\end{pmatrix} = e^{x_1w+b} \\begin{pmatrix} v_1 & v_2 \\end{pmatrix}  \\begin{pmatrix} x_1^2 & x_1 \\\\ x_1 & 1 \\end{pmatrix} \\begin{pmatrix} v_1 \\\\ v_2\\end{pmatrix} = $$\n",
    "$$e^{x_1w+b} \\begin{pmatrix} v_1x^2 +v_2x & v_1x + v_2\\end{pmatrix}\\begin{pmatrix} v_1 \\\\ v_2 \\end{pmatrix} = e^{x_1w+b} \\begin{pmatrix} v_1^2x^2 + 2v_1v_2x+v_2^2 \\end{pmatrix} = e^{x_1w+b} (v_1x+v_2)^2 .$$\n",
    "\n",
    "Since $x_1$, $w$, $b$, $v_1$, $v_2$ $\\in {\\Bbb R}$, hence $e^{x_1w+b} > 0$ and $(v_1x+v_2)^2 \\geq 0$, thus $e^{x_1w+b} (v_1x+v_2)^2 \\geq 0$.\n",
    "\n",
    "Hence for any $v = \\begin{pmatrix} v_1 \\\\ v_2 \\end{pmatrix} \\in {\\Bbb R}^2$ and $(w,b) \\in {\\Bbb R}^2$, $v^TH(w,b)v \\geq 0 .$ "
   ]
  },
  {
   "cell_type": "markdown",
   "metadata": {},
   "source": [
    "# Problem 2\n",
    "\n",
    "Consider $A_1$, $A_2$ $\\subset {\\Bbb R}^2$, where\n",
    "$$A_1 = \\{ (0,1),(\\frac{\\sqrt{2}}{2},\\frac{\\sqrt{2}}{2}),(1,0),(-\\frac{\\sqrt{2}}{2},-\\frac{\\sqrt{2}}{2}),(0,-1),(\\frac{\\sqrt{2}}{2},-\\frac{\\sqrt{2}}{2})\\},$$\n",
    "and \n",
    "$$A_2 = \\{(0,2),(\\sqrt{2},\\sqrt{2}),(2,0),(-\\sqrt{2},\\sqrt{2}),(-2,0),(-\\sqrt{2},-\\sqrt{2}),(0,-2),(\\sqrt{2},-\\sqrt{2})\\}$$"
   ]
  },
  {
   "cell_type": "markdown",
   "metadata": {},
   "source": [
    "2.1) Plot out $A_1$, $A_2$ on $\\Bbb R ^2$."
   ]
  },
  {
   "cell_type": "markdown",
   "metadata": {},
   "source": [
    "Solution:\n",
    "\n",
    "See below for the graph, red form $A_1$, bule from $A_2$."
   ]
  },
  {
   "cell_type": "code",
   "execution_count": 30,
   "metadata": {},
   "outputs": [
    {
     "output_type": "execute_result",
     "data": {
      "text/plain": "<function matplotlib.pyplot.show(*args, **kw)>"
     },
     "metadata": {},
     "execution_count": 30
    },
    {
     "output_type": "display_data",
     "data": {
      "text/plain": "<Figure size 432x288 with 1 Axes>",
      "image/svg+xml": "<?xml version=\"1.0\" encoding=\"utf-8\" standalone=\"no\"?>\r\n<!DOCTYPE svg PUBLIC \"-//W3C//DTD SVG 1.1//EN\"\r\n  \"http://www.w3.org/Graphics/SVG/1.1/DTD/svg11.dtd\">\r\n<!-- Created with matplotlib (https://matplotlib.org/) -->\r\n<svg height=\"248.518125pt\" version=\"1.1\" viewBox=\"0 0 380.482813 248.518125\" width=\"380.482813pt\" xmlns=\"http://www.w3.org/2000/svg\" xmlns:xlink=\"http://www.w3.org/1999/xlink\">\r\n <defs>\r\n  <style type=\"text/css\">\r\n*{stroke-linecap:butt;stroke-linejoin:round;}\r\n  </style>\r\n </defs>\r\n <g id=\"figure_1\">\r\n  <g id=\"patch_1\">\r\n   <path d=\"M -0 248.518125 \r\nL 380.482813 248.518125 \r\nL 380.482813 0 \r\nL -0 0 \r\nz\r\n\" style=\"fill:none;\"/>\r\n  </g>\r\n  <g id=\"axes_1\">\r\n   <g id=\"patch_2\">\r\n    <path d=\"M 38.482813 224.64 \r\nL 373.282813 224.64 \r\nL 373.282813 7.2 \r\nL 38.482813 7.2 \r\nz\r\n\" style=\"fill:#ffffff;\"/>\r\n   </g>\r\n   <g id=\"PathCollection_1\">\r\n    <defs>\r\n     <path d=\"M 0 3 \r\nC 0.795609 3 1.55874 2.683901 2.12132 2.12132 \r\nC 2.683901 1.55874 3 0.795609 3 0 \r\nC 3 -0.795609 2.683901 -1.55874 2.12132 -2.12132 \r\nC 1.55874 -2.683901 0.795609 -3 0 -3 \r\nC -0.795609 -3 -1.55874 -2.683901 -2.12132 -2.12132 \r\nC -2.683901 -1.55874 -3 -0.795609 -3 0 \r\nC -3 0.795609 -2.683901 1.55874 -2.12132 2.12132 \r\nC -1.55874 2.683901 -0.795609 3 0 3 \r\nz\r\n\" id=\"m9194cd4db6\" style=\"stroke:#ff0000;\"/>\r\n    </defs>\r\n    <g clip-path=\"url(#pa7f333e794)\">\r\n     <use style=\"fill:#ff0000;stroke:#ff0000;\" x=\"205.882813\" xlink:href=\"#m9194cd4db6\" y=\"67.250644\"/>\r\n     <use style=\"fill:#ff0000;stroke:#ff0000;\" x=\"259.157397\" xlink:href=\"#m9194cd4db6\" y=\"81.505569\"/>\r\n     <use style=\"fill:#ff0000;stroke:#ff0000;\" x=\"281.224453\" xlink:href=\"#m9194cd4db6\" y=\"115.92\"/>\r\n     <use style=\"fill:#ff0000;stroke:#ff0000;\" x=\"152.608228\" xlink:href=\"#m9194cd4db6\" y=\"81.505569\"/>\r\n     <use style=\"fill:#ff0000;stroke:#ff0000;\" x=\"130.541172\" xlink:href=\"#m9194cd4db6\" y=\"115.92\"/>\r\n     <use style=\"fill:#ff0000;stroke:#ff0000;\" x=\"152.608228\" xlink:href=\"#m9194cd4db6\" y=\"150.334431\"/>\r\n     <use style=\"fill:#ff0000;stroke:#ff0000;\" x=\"205.882813\" xlink:href=\"#m9194cd4db6\" y=\"164.589356\"/>\r\n     <use style=\"fill:#ff0000;stroke:#ff0000;\" x=\"259.157397\" xlink:href=\"#m9194cd4db6\" y=\"150.334431\"/>\r\n    </g>\r\n   </g>\r\n   <g id=\"PathCollection_2\">\r\n    <defs>\r\n     <path d=\"M 0 3 \r\nC 0.795609 3 1.55874 2.683901 2.12132 2.12132 \r\nC 2.683901 1.55874 3 0.795609 3 0 \r\nC 3 -0.795609 2.683901 -1.55874 2.12132 -2.12132 \r\nC 1.55874 -2.683901 0.795609 -3 0 -3 \r\nC -0.795609 -3 -1.55874 -2.683901 -2.12132 -2.12132 \r\nC -2.683901 -1.55874 -3 -0.795609 -3 0 \r\nC -3 0.795609 -2.683901 1.55874 -2.12132 2.12132 \r\nC -1.55874 2.683901 -0.795609 3 0 3 \r\nz\r\n\" id=\"mf1bb8a8728\" style=\"stroke:#0000ff;\"/>\r\n    </defs>\r\n    <g clip-path=\"url(#pa7f333e794)\">\r\n     <use style=\"fill:#0000ff;stroke:#0000ff;\" x=\"205.882813\" xlink:href=\"#mf1bb8a8728\" y=\"18.581289\"/>\r\n     <use style=\"fill:#0000ff;stroke:#0000ff;\" x=\"312.431982\" xlink:href=\"#mf1bb8a8728\" y=\"47.091137\"/>\r\n     <use style=\"fill:#0000ff;stroke:#0000ff;\" x=\"356.566093\" xlink:href=\"#mf1bb8a8728\" y=\"115.92\"/>\r\n     <use style=\"fill:#0000ff;stroke:#0000ff;\" x=\"99.333643\" xlink:href=\"#mf1bb8a8728\" y=\"47.091137\"/>\r\n     <use style=\"fill:#0000ff;stroke:#0000ff;\" x=\"55.199532\" xlink:href=\"#mf1bb8a8728\" y=\"115.92\"/>\r\n     <use style=\"fill:#0000ff;stroke:#0000ff;\" x=\"99.333643\" xlink:href=\"#mf1bb8a8728\" y=\"184.748863\"/>\r\n     <use style=\"fill:#0000ff;stroke:#0000ff;\" x=\"205.882813\" xlink:href=\"#mf1bb8a8728\" y=\"213.258711\"/>\r\n     <use style=\"fill:#0000ff;stroke:#0000ff;\" x=\"312.431982\" xlink:href=\"#mf1bb8a8728\" y=\"184.748863\"/>\r\n    </g>\r\n   </g>\r\n   <g id=\"matplotlib.axis_1\">\r\n    <g id=\"xtick_1\">\r\n     <g id=\"line2d_1\">\r\n      <defs>\r\n       <path d=\"M 0 0 \r\nL 0 3.5 \r\n\" id=\"m85b59d5640\" style=\"stroke:#000000;stroke-width:0.8;\"/>\r\n      </defs>\r\n      <g>\r\n       <use style=\"stroke:#000000;stroke-width:0.8;\" x=\"55.199532\" xlink:href=\"#m85b59d5640\" y=\"224.64\"/>\r\n      </g>\r\n     </g>\r\n     <g id=\"text_1\">\r\n      <!-- −2.0 -->\r\n      <defs>\r\n       <path d=\"M 10.59375 35.5 \r\nL 73.1875 35.5 \r\nL 73.1875 27.203125 \r\nL 10.59375 27.203125 \r\nz\r\n\" id=\"DejaVuSans-8722\"/>\r\n       <path d=\"M 19.1875 8.296875 \r\nL 53.609375 8.296875 \r\nL 53.609375 0 \r\nL 7.328125 0 \r\nL 7.328125 8.296875 \r\nQ 12.9375 14.109375 22.625 23.890625 \r\nQ 32.328125 33.6875 34.8125 36.53125 \r\nQ 39.546875 41.84375 41.421875 45.53125 \r\nQ 43.3125 49.21875 43.3125 52.78125 \r\nQ 43.3125 58.59375 39.234375 62.25 \r\nQ 35.15625 65.921875 28.609375 65.921875 \r\nQ 23.96875 65.921875 18.8125 64.3125 \r\nQ 13.671875 62.703125 7.8125 59.421875 \r\nL 7.8125 69.390625 \r\nQ 13.765625 71.78125 18.9375 73 \r\nQ 24.125 74.21875 28.421875 74.21875 \r\nQ 39.75 74.21875 46.484375 68.546875 \r\nQ 53.21875 62.890625 53.21875 53.421875 \r\nQ 53.21875 48.921875 51.53125 44.890625 \r\nQ 49.859375 40.875 45.40625 35.40625 \r\nQ 44.1875 33.984375 37.640625 27.21875 \r\nQ 31.109375 20.453125 19.1875 8.296875 \r\nz\r\n\" id=\"DejaVuSans-50\"/>\r\n       <path d=\"M 10.6875 12.40625 \r\nL 21 12.40625 \r\nL 21 0 \r\nL 10.6875 0 \r\nz\r\n\" id=\"DejaVuSans-46\"/>\r\n       <path d=\"M 31.78125 66.40625 \r\nQ 24.171875 66.40625 20.328125 58.90625 \r\nQ 16.5 51.421875 16.5 36.375 \r\nQ 16.5 21.390625 20.328125 13.890625 \r\nQ 24.171875 6.390625 31.78125 6.390625 \r\nQ 39.453125 6.390625 43.28125 13.890625 \r\nQ 47.125 21.390625 47.125 36.375 \r\nQ 47.125 51.421875 43.28125 58.90625 \r\nQ 39.453125 66.40625 31.78125 66.40625 \r\nz\r\nM 31.78125 74.21875 \r\nQ 44.046875 74.21875 50.515625 64.515625 \r\nQ 56.984375 54.828125 56.984375 36.375 \r\nQ 56.984375 17.96875 50.515625 8.265625 \r\nQ 44.046875 -1.421875 31.78125 -1.421875 \r\nQ 19.53125 -1.421875 13.0625 8.265625 \r\nQ 6.59375 17.96875 6.59375 36.375 \r\nQ 6.59375 54.828125 13.0625 64.515625 \r\nQ 19.53125 74.21875 31.78125 74.21875 \r\nz\r\n\" id=\"DejaVuSans-48\"/>\r\n      </defs>\r\n      <g transform=\"translate(43.058126 239.238437)scale(0.1 -0.1)\">\r\n       <use xlink:href=\"#DejaVuSans-8722\"/>\r\n       <use x=\"83.789062\" xlink:href=\"#DejaVuSans-50\"/>\r\n       <use x=\"147.412109\" xlink:href=\"#DejaVuSans-46\"/>\r\n       <use x=\"179.199219\" xlink:href=\"#DejaVuSans-48\"/>\r\n      </g>\r\n     </g>\r\n    </g>\r\n    <g id=\"xtick_2\">\r\n     <g id=\"line2d_2\">\r\n      <g>\r\n       <use style=\"stroke:#000000;stroke-width:0.8;\" x=\"92.870352\" xlink:href=\"#m85b59d5640\" y=\"224.64\"/>\r\n      </g>\r\n     </g>\r\n     <g id=\"text_2\">\r\n      <!-- −1.5 -->\r\n      <defs>\r\n       <path d=\"M 12.40625 8.296875 \r\nL 28.515625 8.296875 \r\nL 28.515625 63.921875 \r\nL 10.984375 60.40625 \r\nL 10.984375 69.390625 \r\nL 28.421875 72.90625 \r\nL 38.28125 72.90625 \r\nL 38.28125 8.296875 \r\nL 54.390625 8.296875 \r\nL 54.390625 0 \r\nL 12.40625 0 \r\nz\r\n\" id=\"DejaVuSans-49\"/>\r\n       <path d=\"M 10.796875 72.90625 \r\nL 49.515625 72.90625 \r\nL 49.515625 64.59375 \r\nL 19.828125 64.59375 \r\nL 19.828125 46.734375 \r\nQ 21.96875 47.46875 24.109375 47.828125 \r\nQ 26.265625 48.1875 28.421875 48.1875 \r\nQ 40.625 48.1875 47.75 41.5 \r\nQ 54.890625 34.8125 54.890625 23.390625 \r\nQ 54.890625 11.625 47.5625 5.09375 \r\nQ 40.234375 -1.421875 26.90625 -1.421875 \r\nQ 22.3125 -1.421875 17.546875 -0.640625 \r\nQ 12.796875 0.140625 7.71875 1.703125 \r\nL 7.71875 11.625 \r\nQ 12.109375 9.234375 16.796875 8.0625 \r\nQ 21.484375 6.890625 26.703125 6.890625 \r\nQ 35.15625 6.890625 40.078125 11.328125 \r\nQ 45.015625 15.765625 45.015625 23.390625 \r\nQ 45.015625 31 40.078125 35.4375 \r\nQ 35.15625 39.890625 26.703125 39.890625 \r\nQ 22.75 39.890625 18.8125 39.015625 \r\nQ 14.890625 38.140625 10.796875 36.28125 \r\nz\r\n\" id=\"DejaVuSans-53\"/>\r\n      </defs>\r\n      <g transform=\"translate(80.728946 239.238437)scale(0.1 -0.1)\">\r\n       <use xlink:href=\"#DejaVuSans-8722\"/>\r\n       <use x=\"83.789062\" xlink:href=\"#DejaVuSans-49\"/>\r\n       <use x=\"147.412109\" xlink:href=\"#DejaVuSans-46\"/>\r\n       <use x=\"179.199219\" xlink:href=\"#DejaVuSans-53\"/>\r\n      </g>\r\n     </g>\r\n    </g>\r\n    <g id=\"xtick_3\">\r\n     <g id=\"line2d_3\">\r\n      <g>\r\n       <use style=\"stroke:#000000;stroke-width:0.8;\" x=\"130.541172\" xlink:href=\"#m85b59d5640\" y=\"224.64\"/>\r\n      </g>\r\n     </g>\r\n     <g id=\"text_3\">\r\n      <!-- −1.0 -->\r\n      <g transform=\"translate(118.399766 239.238437)scale(0.1 -0.1)\">\r\n       <use xlink:href=\"#DejaVuSans-8722\"/>\r\n       <use x=\"83.789062\" xlink:href=\"#DejaVuSans-49\"/>\r\n       <use x=\"147.412109\" xlink:href=\"#DejaVuSans-46\"/>\r\n       <use x=\"179.199219\" xlink:href=\"#DejaVuSans-48\"/>\r\n      </g>\r\n     </g>\r\n    </g>\r\n    <g id=\"xtick_4\">\r\n     <g id=\"line2d_4\">\r\n      <g>\r\n       <use style=\"stroke:#000000;stroke-width:0.8;\" x=\"168.211992\" xlink:href=\"#m85b59d5640\" y=\"224.64\"/>\r\n      </g>\r\n     </g>\r\n     <g id=\"text_4\">\r\n      <!-- −0.5 -->\r\n      <g transform=\"translate(156.070586 239.238437)scale(0.1 -0.1)\">\r\n       <use xlink:href=\"#DejaVuSans-8722\"/>\r\n       <use x=\"83.789062\" xlink:href=\"#DejaVuSans-48\"/>\r\n       <use x=\"147.412109\" xlink:href=\"#DejaVuSans-46\"/>\r\n       <use x=\"179.199219\" xlink:href=\"#DejaVuSans-53\"/>\r\n      </g>\r\n     </g>\r\n    </g>\r\n    <g id=\"xtick_5\">\r\n     <g id=\"line2d_5\">\r\n      <g>\r\n       <use style=\"stroke:#000000;stroke-width:0.8;\" x=\"205.882813\" xlink:href=\"#m85b59d5640\" y=\"224.64\"/>\r\n      </g>\r\n     </g>\r\n     <g id=\"text_5\">\r\n      <!-- 0.0 -->\r\n      <g transform=\"translate(197.93125 239.238437)scale(0.1 -0.1)\">\r\n       <use xlink:href=\"#DejaVuSans-48\"/>\r\n       <use x=\"63.623047\" xlink:href=\"#DejaVuSans-46\"/>\r\n       <use x=\"95.410156\" xlink:href=\"#DejaVuSans-48\"/>\r\n      </g>\r\n     </g>\r\n    </g>\r\n    <g id=\"xtick_6\">\r\n     <g id=\"line2d_6\">\r\n      <g>\r\n       <use style=\"stroke:#000000;stroke-width:0.8;\" x=\"243.553633\" xlink:href=\"#m85b59d5640\" y=\"224.64\"/>\r\n      </g>\r\n     </g>\r\n     <g id=\"text_6\">\r\n      <!-- 0.5 -->\r\n      <g transform=\"translate(235.60207 239.238437)scale(0.1 -0.1)\">\r\n       <use xlink:href=\"#DejaVuSans-48\"/>\r\n       <use x=\"63.623047\" xlink:href=\"#DejaVuSans-46\"/>\r\n       <use x=\"95.410156\" xlink:href=\"#DejaVuSans-53\"/>\r\n      </g>\r\n     </g>\r\n    </g>\r\n    <g id=\"xtick_7\">\r\n     <g id=\"line2d_7\">\r\n      <g>\r\n       <use style=\"stroke:#000000;stroke-width:0.8;\" x=\"281.224453\" xlink:href=\"#m85b59d5640\" y=\"224.64\"/>\r\n      </g>\r\n     </g>\r\n     <g id=\"text_7\">\r\n      <!-- 1.0 -->\r\n      <g transform=\"translate(273.27289 239.238437)scale(0.1 -0.1)\">\r\n       <use xlink:href=\"#DejaVuSans-49\"/>\r\n       <use x=\"63.623047\" xlink:href=\"#DejaVuSans-46\"/>\r\n       <use x=\"95.410156\" xlink:href=\"#DejaVuSans-48\"/>\r\n      </g>\r\n     </g>\r\n    </g>\r\n    <g id=\"xtick_8\">\r\n     <g id=\"line2d_8\">\r\n      <g>\r\n       <use style=\"stroke:#000000;stroke-width:0.8;\" x=\"318.895273\" xlink:href=\"#m85b59d5640\" y=\"224.64\"/>\r\n      </g>\r\n     </g>\r\n     <g id=\"text_8\">\r\n      <!-- 1.5 -->\r\n      <g transform=\"translate(310.94371 239.238437)scale(0.1 -0.1)\">\r\n       <use xlink:href=\"#DejaVuSans-49\"/>\r\n       <use x=\"63.623047\" xlink:href=\"#DejaVuSans-46\"/>\r\n       <use x=\"95.410156\" xlink:href=\"#DejaVuSans-53\"/>\r\n      </g>\r\n     </g>\r\n    </g>\r\n    <g id=\"xtick_9\">\r\n     <g id=\"line2d_9\">\r\n      <g>\r\n       <use style=\"stroke:#000000;stroke-width:0.8;\" x=\"356.566093\" xlink:href=\"#m85b59d5640\" y=\"224.64\"/>\r\n      </g>\r\n     </g>\r\n     <g id=\"text_9\">\r\n      <!-- 2.0 -->\r\n      <g transform=\"translate(348.61453 239.238437)scale(0.1 -0.1)\">\r\n       <use xlink:href=\"#DejaVuSans-50\"/>\r\n       <use x=\"63.623047\" xlink:href=\"#DejaVuSans-46\"/>\r\n       <use x=\"95.410156\" xlink:href=\"#DejaVuSans-48\"/>\r\n      </g>\r\n     </g>\r\n    </g>\r\n   </g>\r\n   <g id=\"matplotlib.axis_2\">\r\n    <g id=\"ytick_1\">\r\n     <g id=\"line2d_10\">\r\n      <defs>\r\n       <path d=\"M 0 0 \r\nL -3.5 0 \r\n\" id=\"m9e2c25c0c8\" style=\"stroke:#000000;stroke-width:0.8;\"/>\r\n      </defs>\r\n      <g>\r\n       <use style=\"stroke:#000000;stroke-width:0.8;\" x=\"38.482813\" xlink:href=\"#m9e2c25c0c8\" y=\"213.258711\"/>\r\n      </g>\r\n     </g>\r\n     <g id=\"text_10\">\r\n      <!-- −2.0 -->\r\n      <g transform=\"translate(7.2 217.05793)scale(0.1 -0.1)\">\r\n       <use xlink:href=\"#DejaVuSans-8722\"/>\r\n       <use x=\"83.789062\" xlink:href=\"#DejaVuSans-50\"/>\r\n       <use x=\"147.412109\" xlink:href=\"#DejaVuSans-46\"/>\r\n       <use x=\"179.199219\" xlink:href=\"#DejaVuSans-48\"/>\r\n      </g>\r\n     </g>\r\n    </g>\r\n    <g id=\"ytick_2\">\r\n     <g id=\"line2d_11\">\r\n      <g>\r\n       <use style=\"stroke:#000000;stroke-width:0.8;\" x=\"38.482813\" xlink:href=\"#m9e2c25c0c8\" y=\"188.924033\"/>\r\n      </g>\r\n     </g>\r\n     <g id=\"text_11\">\r\n      <!-- −1.5 -->\r\n      <g transform=\"translate(7.2 192.723252)scale(0.1 -0.1)\">\r\n       <use xlink:href=\"#DejaVuSans-8722\"/>\r\n       <use x=\"83.789062\" xlink:href=\"#DejaVuSans-49\"/>\r\n       <use x=\"147.412109\" xlink:href=\"#DejaVuSans-46\"/>\r\n       <use x=\"179.199219\" xlink:href=\"#DejaVuSans-53\"/>\r\n      </g>\r\n     </g>\r\n    </g>\r\n    <g id=\"ytick_3\">\r\n     <g id=\"line2d_12\">\r\n      <g>\r\n       <use style=\"stroke:#000000;stroke-width:0.8;\" x=\"38.482813\" xlink:href=\"#m9e2c25c0c8\" y=\"164.589356\"/>\r\n      </g>\r\n     </g>\r\n     <g id=\"text_12\">\r\n      <!-- −1.0 -->\r\n      <g transform=\"translate(7.2 168.388574)scale(0.1 -0.1)\">\r\n       <use xlink:href=\"#DejaVuSans-8722\"/>\r\n       <use x=\"83.789062\" xlink:href=\"#DejaVuSans-49\"/>\r\n       <use x=\"147.412109\" xlink:href=\"#DejaVuSans-46\"/>\r\n       <use x=\"179.199219\" xlink:href=\"#DejaVuSans-48\"/>\r\n      </g>\r\n     </g>\r\n    </g>\r\n    <g id=\"ytick_4\">\r\n     <g id=\"line2d_13\">\r\n      <g>\r\n       <use style=\"stroke:#000000;stroke-width:0.8;\" x=\"38.482813\" xlink:href=\"#m9e2c25c0c8\" y=\"140.254678\"/>\r\n      </g>\r\n     </g>\r\n     <g id=\"text_13\">\r\n      <!-- −0.5 -->\r\n      <g transform=\"translate(7.2 144.053897)scale(0.1 -0.1)\">\r\n       <use xlink:href=\"#DejaVuSans-8722\"/>\r\n       <use x=\"83.789062\" xlink:href=\"#DejaVuSans-48\"/>\r\n       <use x=\"147.412109\" xlink:href=\"#DejaVuSans-46\"/>\r\n       <use x=\"179.199219\" xlink:href=\"#DejaVuSans-53\"/>\r\n      </g>\r\n     </g>\r\n    </g>\r\n    <g id=\"ytick_5\">\r\n     <g id=\"line2d_14\">\r\n      <g>\r\n       <use style=\"stroke:#000000;stroke-width:0.8;\" x=\"38.482813\" xlink:href=\"#m9e2c25c0c8\" y=\"115.92\"/>\r\n      </g>\r\n     </g>\r\n     <g id=\"text_14\">\r\n      <!-- 0.0 -->\r\n      <g transform=\"translate(15.579688 119.719219)scale(0.1 -0.1)\">\r\n       <use xlink:href=\"#DejaVuSans-48\"/>\r\n       <use x=\"63.623047\" xlink:href=\"#DejaVuSans-46\"/>\r\n       <use x=\"95.410156\" xlink:href=\"#DejaVuSans-48\"/>\r\n      </g>\r\n     </g>\r\n    </g>\r\n    <g id=\"ytick_6\">\r\n     <g id=\"line2d_15\">\r\n      <g>\r\n       <use style=\"stroke:#000000;stroke-width:0.8;\" x=\"38.482813\" xlink:href=\"#m9e2c25c0c8\" y=\"91.585322\"/>\r\n      </g>\r\n     </g>\r\n     <g id=\"text_15\">\r\n      <!-- 0.5 -->\r\n      <g transform=\"translate(15.579688 95.384541)scale(0.1 -0.1)\">\r\n       <use xlink:href=\"#DejaVuSans-48\"/>\r\n       <use x=\"63.623047\" xlink:href=\"#DejaVuSans-46\"/>\r\n       <use x=\"95.410156\" xlink:href=\"#DejaVuSans-53\"/>\r\n      </g>\r\n     </g>\r\n    </g>\r\n    <g id=\"ytick_7\">\r\n     <g id=\"line2d_16\">\r\n      <g>\r\n       <use style=\"stroke:#000000;stroke-width:0.8;\" x=\"38.482813\" xlink:href=\"#m9e2c25c0c8\" y=\"67.250644\"/>\r\n      </g>\r\n     </g>\r\n     <g id=\"text_16\">\r\n      <!-- 1.0 -->\r\n      <g transform=\"translate(15.579688 71.049863)scale(0.1 -0.1)\">\r\n       <use xlink:href=\"#DejaVuSans-49\"/>\r\n       <use x=\"63.623047\" xlink:href=\"#DejaVuSans-46\"/>\r\n       <use x=\"95.410156\" xlink:href=\"#DejaVuSans-48\"/>\r\n      </g>\r\n     </g>\r\n    </g>\r\n    <g id=\"ytick_8\">\r\n     <g id=\"line2d_17\">\r\n      <g>\r\n       <use style=\"stroke:#000000;stroke-width:0.8;\" x=\"38.482813\" xlink:href=\"#m9e2c25c0c8\" y=\"42.915967\"/>\r\n      </g>\r\n     </g>\r\n     <g id=\"text_17\">\r\n      <!-- 1.5 -->\r\n      <g transform=\"translate(15.579688 46.715185)scale(0.1 -0.1)\">\r\n       <use xlink:href=\"#DejaVuSans-49\"/>\r\n       <use x=\"63.623047\" xlink:href=\"#DejaVuSans-46\"/>\r\n       <use x=\"95.410156\" xlink:href=\"#DejaVuSans-53\"/>\r\n      </g>\r\n     </g>\r\n    </g>\r\n    <g id=\"ytick_9\">\r\n     <g id=\"line2d_18\">\r\n      <g>\r\n       <use style=\"stroke:#000000;stroke-width:0.8;\" x=\"38.482813\" xlink:href=\"#m9e2c25c0c8\" y=\"18.581289\"/>\r\n      </g>\r\n     </g>\r\n     <g id=\"text_18\">\r\n      <!-- 2.0 -->\r\n      <g transform=\"translate(15.579688 22.380508)scale(0.1 -0.1)\">\r\n       <use xlink:href=\"#DejaVuSans-50\"/>\r\n       <use x=\"63.623047\" xlink:href=\"#DejaVuSans-46\"/>\r\n       <use x=\"95.410156\" xlink:href=\"#DejaVuSans-48\"/>\r\n      </g>\r\n     </g>\r\n    </g>\r\n   </g>\r\n   <g id=\"patch_3\">\r\n    <path d=\"M 38.482813 224.64 \r\nL 38.482813 7.2 \r\n\" style=\"fill:none;stroke:#000000;stroke-linecap:square;stroke-linejoin:miter;stroke-width:0.8;\"/>\r\n   </g>\r\n   <g id=\"patch_4\">\r\n    <path d=\"M 373.282813 224.64 \r\nL 373.282813 7.2 \r\n\" style=\"fill:none;stroke:#000000;stroke-linecap:square;stroke-linejoin:miter;stroke-width:0.8;\"/>\r\n   </g>\r\n   <g id=\"patch_5\">\r\n    <path d=\"M 38.482812 224.64 \r\nL 373.282813 224.64 \r\n\" style=\"fill:none;stroke:#000000;stroke-linecap:square;stroke-linejoin:miter;stroke-width:0.8;\"/>\r\n   </g>\r\n   <g id=\"patch_6\">\r\n    <path d=\"M 38.482812 7.2 \r\nL 373.282813 7.2 \r\n\" style=\"fill:none;stroke:#000000;stroke-linecap:square;stroke-linejoin:miter;stroke-width:0.8;\"/>\r\n   </g>\r\n   <g id=\"legend_1\">\r\n    <g id=\"patch_7\">\r\n     <path d=\"M 321.079688 44.55625 \r\nL 366.282813 44.55625 \r\nQ 368.282813 44.55625 368.282813 42.55625 \r\nL 368.282813 14.2 \r\nQ 368.282813 12.2 366.282813 12.2 \r\nL 321.079688 12.2 \r\nQ 319.079688 12.2 319.079688 14.2 \r\nL 319.079688 42.55625 \r\nQ 319.079688 44.55625 321.079688 44.55625 \r\nz\r\n\" style=\"fill:#ffffff;opacity:0.8;stroke:#cccccc;stroke-linejoin:miter;\"/>\r\n    </g>\r\n    <g id=\"PathCollection_3\">\r\n     <g>\r\n      <use style=\"fill:#ff0000;stroke:#ff0000;\" x=\"333.079688\" xlink:href=\"#m9194cd4db6\" y=\"21.173437\"/>\r\n     </g>\r\n    </g>\r\n    <g id=\"text_19\">\r\n     <!-- A1 -->\r\n     <defs>\r\n      <path d=\"M 34.1875 63.1875 \r\nL 20.796875 26.90625 \r\nL 47.609375 26.90625 \r\nz\r\nM 28.609375 72.90625 \r\nL 39.796875 72.90625 \r\nL 67.578125 0 \r\nL 57.328125 0 \r\nL 50.6875 18.703125 \r\nL 17.828125 18.703125 \r\nL 11.1875 0 \r\nL 0.78125 0 \r\nz\r\n\" id=\"DejaVuSans-65\"/>\r\n     </defs>\r\n     <g transform=\"translate(351.079688 23.798437)scale(0.1 -0.1)\">\r\n      <use xlink:href=\"#DejaVuSans-65\"/>\r\n      <use x=\"68.408203\" xlink:href=\"#DejaVuSans-49\"/>\r\n     </g>\r\n    </g>\r\n    <g id=\"PathCollection_4\">\r\n     <g>\r\n      <use style=\"fill:#0000ff;stroke:#0000ff;\" x=\"333.079688\" xlink:href=\"#mf1bb8a8728\" y=\"35.851562\"/>\r\n     </g>\r\n    </g>\r\n    <g id=\"text_20\">\r\n     <!-- A2 -->\r\n     <g transform=\"translate(351.079688 38.476562)scale(0.1 -0.1)\">\r\n      <use xlink:href=\"#DejaVuSans-65\"/>\r\n      <use x=\"68.408203\" xlink:href=\"#DejaVuSans-50\"/>\r\n     </g>\r\n    </g>\r\n   </g>\r\n  </g>\r\n </g>\r\n <defs>\r\n  <clipPath id=\"pa7f333e794\">\r\n   <rect height=\"217.44\" width=\"334.8\" x=\"38.482813\" y=\"7.2\"/>\r\n  </clipPath>\r\n </defs>\r\n</svg>\r\n",
      "image/png": "[encoded data removed]"
     },
     "metadata": {
      "needs_background": "light"
     }
    }
   ],
   "source": [
    "import math\n",
    "import matplotlib.pyplot as plt\n",
    "A_1_x = [0,0.5*math.sqrt(2),1,-0.5*math.sqrt(2),-1,-0.5*math.sqrt(2),0,0.5*math.sqrt(2)]\n",
    "A_1_y = [1,0.5*math.sqrt(2),0,0.5*math.sqrt(2),0,-0.5*math.sqrt(2),-1,-0.5*math.sqrt(2)]\n",
    "A_2_x = [0,math.sqrt(2),2,-math.sqrt(2),-2,-math.sqrt(2),0,math.sqrt(2)]\n",
    "A_2_y = [2,math.sqrt(2),0,math.sqrt(2),0,-math.sqrt(2),-2,-math.sqrt(2)]\n",
    "A_1 = plt.scatter(A_1_x,A_1_y,color = 'red')\n",
    "A_2 = plt.scatter(A_2_x,A_2_y,color = 'blue')\n",
    "plt.legend((A_1,A_2),('A1','A2'))\n",
    "plt.show\n"
   ]
  },
  {
   "cell_type": "markdown",
   "metadata": {},
   "source": [
    "2.2) Find a mapping\n",
    "\n",
    "$$\\varphi: {\\Bbb R^2} \\mapsto {\\Bbb R},$$\n",
    "\n",
    "such that $\\varphi (A_1)$ and $\\varphi (A_2)$ are linearly separable where \n",
    "\n",
    "$$ \\varphi (A_1) := \\{\\tilde{x} = \\varphi (x) | x\\in A_1\\}\\text{ and } \\varphi (A_2) := \\{\\tilde{x} = \\varphi (x) | x\\in A_2\\}.$$"
   ]
  },
  {
   "cell_type": "markdown",
   "metadata": {},
   "source": [
    "Solution:\n",
    "\n",
    "Define \n",
    "$$\\varphi(x,y) = x^2+y^2,$$ \n",
    "then \n",
    "$$\\varphi(A_1) = \\{1\\}\\text{ and } \\varphi{(A_2)}=\\{4\\}.$$\n",
    "\n",
    "$\\varphi(A_1)$ and $\\varphi(A_2)$ are linearly separable since there exist a hyperplane $H_0 = \\{x: x-2=0\\}$ such that $x-2=-1 < 0 $ if $x \\in A_1$ and $x-2=2 > 0 $ if $x \\in A_2$ ."
   ]
  },
  {
   "cell_type": "markdown",
   "metadata": {},
   "source": [
    "# Problem 3\n",
    "Prove that if $A_1$, $A_2$, $A_3$ are all-vs-one linearly separable, then they are linearly separable.\n"
   ]
  },
  {
   "cell_type": "markdown",
   "metadata": {},
   "source": [
    "Solution:\n",
    "\n",
    "Assume that $A_1, A_2, A_3$ are all-vs-one linearly separable. For each $i$, let $w_i$, $b_i$ be such that $w_ix+b_i$ separates $A_i$ from $\\cup _{j\\neq i }A_j$. Let $W = \\begin{pmatrix} w_1 \\\\ w_2 \\\\ w_3 \\end{pmatrix}$, $b = \\begin{pmatrix} b_1 \\\\ b_2 \\\\ b_3 \\end{pmatrix}$, then if $x \\in A_i$, then $(Wx+b)_i > 0$ while $(Wx+b)_j < 0$ for all $j \\neq i$. Hence they are linearly separable.\n",
    "\n"
   ]
  },
  {
   "cell_type": "markdown",
   "metadata": {},
   "source": [
    "# Problem 4\n",
    "\n",
    "Give an example of $A_1$, $A_2$, $A_3$ $\\subset {\\Bbb R^2}$ such that they are linearly separable but not all-vs-one linearly separable."
   ]
  },
  {
   "cell_type": "markdown",
   "metadata": {},
   "source": [
    "Solution:\n",
    "$A_1 = \\{(0.9,7),(-1,3.1),(-3,3.1)\\},A_2 = \\{(1,7),(0.1,5),(2,1.1)\\},A_3=\\{(1,3),(2,1),(-3,3)\\}$\n"
   ]
  }
 ],
 "metadata": {
  "language_info": {
   "codemirror_mode": {
    "name": "ipython",
    "version": 3
   },
   "file_extension": ".py",
   "mimetype": "text/x-python",
   "name": "python",
   "nbconvert_exporter": "python",
   "pygments_lexer": "ipython3",
   "version": "3.7.6-final"
  },
  "orig_nbformat": 2,
  "kernelspec": {
   "name": "python37664bitbaseconda2b9f4424e4a74444beee3db11010145e",
   "display_name": "Python 3.7.6 64-bit ('base': conda)"
  }
 },
 "nbformat": 4,
 "nbformat_minor": 2
}